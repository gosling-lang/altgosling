{
 "cells": [
  {
   "cell_type": "code",
   "execution_count": null,
   "metadata": {},
   "outputs": [],
   "source": [
    "%load_ext autoreload\n",
    "%autoreload 2\n",
    "%env ANYWIDGET_HMR=1"
   ]
  },
  {
   "cell_type": "code",
   "execution_count": null,
   "metadata": {},
   "outputs": [],
   "source": [
    "goslingSpec = \"\"\"{\n",
    "  \"title\": \"Tonsil ChIP-seq in Th1 cells\",\n",
    "  \"tracks\": [\n",
    "    {\n",
    "      \"layout\": \"linear\",\n",
    "      \"width\": 800,\n",
    "      \"height\": 180,\n",
    "      \"data\": {\n",
    "        \"url\": \"https://resgen.io/api/v1/tileset_info/?d=UvVPeLHuRDiYA3qwFlm7xQ\",\n",
    "        \"type\": \"multivec\",\n",
    "        \"row\": \"sample\",\n",
    "        \"column\": \"position\",\n",
    "        \"value\": \"peak\",\n",
    "        \"categories\": [\"sample 1\"],\n",
    "        \"binSize\": 5\n",
    "      },\n",
    "      \"mark\": \"bar\",\n",
    "      \"x\": {\"field\": \"start\", \"type\": \"genomic\", \"axis\": \"bottom\"},\n",
    "      \"xe\": {\"field\": \"end\", \"type\": \"genomic\"},\n",
    "      \"y\": {\"field\": \"peak\", \"type\": \"quantitative\", \"axis\": \"right\"},\n",
    "      \"size\": {\"value\": 5}\n",
    "    }\n",
    "  ]\n",
    "}\"\"\""
   ]
  },
  {
   "cell_type": "code",
   "execution_count": null,
   "metadata": {},
   "outputs": [],
   "source": [
    "from altgosling import AltGoslingWidget\n",
    "w = AltGoslingWidget(spec=goslingSpec)\n",
    "w"
   ]
  },
  {
   "cell_type": "code",
   "execution_count": null,
   "metadata": {},
   "outputs": [],
   "source": [
    "import json\n",
    "json.loads(w.altSpec)"
   ]
  }
 ],
 "metadata": {
  "kernelspec": {
   "display_name": "Python 3 (ipykernel)",
   "language": "python",
   "name": "python3"
  },
  "language_info": {
   "codemirror_mode": {
    "name": "ipython",
    "version": 3
   },
   "file_extension": ".py",
   "mimetype": "text/x-python",
   "name": "python",
   "nbconvert_exporter": "python",
   "pygments_lexer": "ipython3",
   "version": "3.12.2"
  }
 },
 "nbformat": 4,
 "nbformat_minor": 4
}
